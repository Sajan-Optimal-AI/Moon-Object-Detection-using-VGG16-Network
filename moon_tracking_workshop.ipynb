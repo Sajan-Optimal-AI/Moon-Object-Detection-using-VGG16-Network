{
  "metadata": {
    "kernelspec": {
      "language": "python",
      "display_name": "Python 3",
      "name": "python3"
    },
    "language_info": {
      "pygments_lexer": "ipython3",
      "nbconvert_exporter": "python",
      "version": "3.6.4",
      "file_extension": ".py",
      "codemirror_mode": {
        "name": "ipython",
        "version": 3
      },
      "name": "python",
      "mimetype": "text/x-python"
    },
    "colab": {
      "provenance": [],
      "collapsed_sections": [
        "tjn4EOvu-znO"
      ]
    }
  },
  "nbformat_minor": 0,
  "nbformat": 4,
  "cells": [
    {
      "cell_type": "markdown",
      "source": [
        "![](http://assets.newatlas.com/dims4/default/9489527/2147483647/strip/true/crop/2000x1333+0+333/resize/1200x800!/quality/90/?url=http%3A%2F%2Fnewatlas-brightspot.s3.amazonaws.com%2Farchive%2Fequipment-choices-amateur-astronomy-telescope-mount-eyepiece-14.jpg)"
      ],
      "metadata": {
        "id": "MJfzGZWm-znE"
      }
    },
    {
      "cell_type": "markdown",
      "source": [
        "# Detecting Moon with Machine Learning \n",
        "### In this tutorial, you will learn how to use basic functions and libraries used for data analysis and getting started with machine learning. \n",
        "\n",
        "#### Note: This lession will not be very comprehensive and you may face some problem understanding it if you are a complete beginner but we have attached links to all the official documents to make things easy for you. Hope you get enjoy it!!"
      ],
      "metadata": {
        "id": "ZPvYpAdO-znF"
      }
    },
    {
      "cell_type": "markdown",
      "source": [
        "\n",
        "### Understanding the problem-\n",
        "\n",
        "Our objective of this task is to detect Earth's Moon from images. Technically, we would want a bounding box around the moon in the image. \n",
        "\n",
        "First, if you have created a new notebook in kaggle, then click \"Add data\" given on the right side and then click on \"Saerch by URL\" and paste this URL: https://www.kaggle.com/yash92328/moon-workshop-spartificial and click on \"Add\".\n",
        "\n",
        "\n",
        "If you followed the steps, you should see some updates on the RHS, in the data section, you will see the dataset folder. \n",
        "\n",
        "Our dataset for this task is two folders containing 75 images and 75 respective bounding box xml annotations generated from \"labelme\" tool. \n",
        "\n",
        "You will get to know more about the data in the later part"
      ],
      "metadata": {
        "id": "GiQ9FNp8-znF"
      }
    },
    {
      "cell_type": "markdown",
      "source": [
        "## Links to follow along this tutorial to know more about python libraries and modules used in the code\n",
        "\n",
        "### Matplotlib\n",
        "https://matplotlib.org/stable/plot_types/index.html\n",
        "\n",
        "### Open CV\n",
        "https://pypi.org/project/opencv-python/\n",
        "\n",
        "### tensorflow\n",
        "https://www.tensorflow.org/\n",
        "\n",
        "### Keras\n",
        "https://keras.io/getting_started/\n",
        "\n",
        "### VGG16\n",
        "https://keras.io/api/applications/vgg/"
      ],
      "metadata": {
        "id": "_w_LOY03-znG"
      }
    },
    {
      "cell_type": "markdown",
      "source": [
        "\n",
        "### Import Required libraries\n",
        "Note: It would probably will not be the first step to import required libraries because you don't even know what libraries you will need in your project. But it's completely okay to import the library only when you need it later in the code."
      ],
      "metadata": {
        "id": "tVec2_G_-znG"
      }
    },
    {
      "cell_type": "code",
      "source": [
        "# Import os: means import operating system \n",
        "# import is a python keyword used to import libraries (libraries are a collection of many useful functions and classes for typically one type)\n",
        "# https://docs.python.org/3/library/os.html\n",
        "import os\n",
        "\n",
        "# numpy is one of the most commonly used matrix manipulation library. Make sure to check out the official documentations for in-depth understanding\n",
        "# https://numpy.org/doc/stable/user/whatisnumpy.html\n",
        "import numpy as np\n",
        "\n",
        "# Let's make an import in order to plot something\n",
        "# we import matplotlib to plot the data\n",
        "import matplotlib.pyplot as plt\n",
        "\n",
        "# This is the import for accessing Image\n",
        "from PIL import Image\n",
        "\n",
        "# importing math for performing any mathematical operation\n",
        "import math\n",
        "\n",
        "# Importing Computervison library\n",
        "# https://docs.opencv.org/4.x/\n",
        "import cv2\n",
        "\n",
        "# Importing tensorflow framework for implementing deep learning part\n",
        "import tensorflow as tf\n",
        "\n",
        "\n",
        "from tensorflow.keras.models import Sequential, Model \n",
        "from tensorflow.keras.layers import Dense, Conv2D, MaxPooling2D, Flatten, Input\n",
        "from tensorflow.keras.preprocessing.image import load_img, img_to_array \n",
        "# to convert image into array\n",
        "\n",
        "# VGG16 pretrained keras model on imagenet dataset\n",
        "from tensorflow.keras.applications import VGG16"
      ],
      "metadata": {
        "execution": {
          "iopub.status.busy": "2021-12-27T12:38:57.754619Z",
          "iopub.execute_input": "2021-12-27T12:38:57.755154Z",
          "iopub.status.idle": "2021-12-27T12:39:03.796013Z",
          "shell.execute_reply.started": "2021-12-27T12:38:57.755122Z",
          "shell.execute_reply": "2021-12-27T12:39:03.795219Z"
        },
        "trusted": true,
        "id": "2ZQOERtc-znH"
      },
      "execution_count": null,
      "outputs": []
    },
    {
      "cell_type": "markdown",
      "source": [
        "\n",
        "### Let's start diving into the data "
      ],
      "metadata": {
        "id": "Uk5RrZWF-znI"
      }
    },
    {
      "cell_type": "code",
      "source": [
        "# defining directory paths\n",
        "\n",
        "ROOT_DIR = \"/content/drive/MyDrive/Moon dataset\"\n",
        "\n",
        "# path.join from os module join one or more path components intelligently.\n",
        "IMAGE_DIR = os.path.join(ROOT_DIR, \"Images\")\n",
        "ANNOT_DIR = os.path.join(ROOT_DIR, \"annotations\")"
      ],
      "metadata": {
        "execution": {
          "iopub.status.busy": "2021-12-27T12:39:03.797442Z",
          "iopub.execute_input": "2021-12-27T12:39:03.797673Z",
          "iopub.status.idle": "2021-12-27T12:39:03.802137Z",
          "shell.execute_reply.started": "2021-12-27T12:39:03.797645Z",
          "shell.execute_reply": "2021-12-27T12:39:03.801466Z"
        },
        "trusted": true,
        "id": "d8MlReOi-znI"
      },
      "execution_count": null,
      "outputs": []
    },
    {
      "cell_type": "markdown",
      "source": [
        "It would be a better idea if you convert file names to python list"
      ],
      "metadata": {
        "id": "x9OxPtId-znI"
      }
    },
    {
      "cell_type": "code",
      "source": [
        "# listdir generates a list of all the files in the directory and return a python list of string file names\n",
        "\n",
        "images_name_list = os.listdir(IMAGE_DIR)\n",
        "annots_name_list = os.listdir(ANNOT_DIR)"
      ],
      "metadata": {
        "execution": {
          "iopub.status.busy": "2021-12-27T12:39:03.803319Z",
          "iopub.execute_input": "2021-12-27T12:39:03.803566Z",
          "iopub.status.idle": "2021-12-27T12:39:03.84963Z",
          "shell.execute_reply.started": "2021-12-27T12:39:03.803538Z",
          "shell.execute_reply": "2021-12-27T12:39:03.849065Z"
        },
        "trusted": true,
        "id": "ZoaPA5kq-znJ"
      },
      "execution_count": null,
      "outputs": []
    },
    {
      "cell_type": "code",
      "source": [
        "images_name_list"
      ],
      "metadata": {
        "execution": {
          "iopub.status.busy": "2021-12-27T12:39:03.851577Z",
          "iopub.execute_input": "2021-12-27T12:39:03.852062Z",
          "iopub.status.idle": "2021-12-27T12:39:03.862094Z",
          "shell.execute_reply.started": "2021-12-27T12:39:03.852006Z",
          "shell.execute_reply": "2021-12-27T12:39:03.861103Z"
        },
        "trusted": true,
        "colab": {
          "base_uri": "https://localhost:8080/"
        },
        "id": "1lu5LHlJ-znJ",
        "outputId": "45e24ad7-9ba2-4042-d652-041294e7d493"
      },
      "execution_count": null,
      "outputs": [
        {
          "output_type": "execute_result",
          "data": {
            "text/plain": [
              "['18.jpeg',\n",
              " '74.jpeg',\n",
              " '5.jpeg',\n",
              " '39.jpeg',\n",
              " '62.jpeg',\n",
              " '34.jpeg',\n",
              " '9.jpeg',\n",
              " '15.jpeg',\n",
              " '8.jpeg',\n",
              " '4.jpeg',\n",
              " '46.jpeg',\n",
              " '3.jpeg',\n",
              " '66.jpeg',\n",
              " '47.jpeg',\n",
              " '30.jpeg',\n",
              " '52.jpeg',\n",
              " '67.jpeg',\n",
              " '53.jpeg',\n",
              " '38.jpeg',\n",
              " '72.jpeg',\n",
              " '55.jpeg',\n",
              " '12.jpeg',\n",
              " '58.jpeg',\n",
              " '27.jpeg',\n",
              " '14.jpeg',\n",
              " '60.jpeg',\n",
              " '48.jpeg',\n",
              " '50.jpeg',\n",
              " '13.jpeg',\n",
              " '7.jpeg',\n",
              " '54.jpeg',\n",
              " '0.jpeg',\n",
              " '2.jpeg',\n",
              " '69.jpeg',\n",
              " '25.jpeg',\n",
              " '65.jpeg',\n",
              " '26.jpeg',\n",
              " '10.jpeg',\n",
              " '73.jpeg',\n",
              " '31.jpeg',\n",
              " '37.jpeg',\n",
              " '35.jpeg',\n",
              " '70.jpeg',\n",
              " '6.jpeg',\n",
              " '63.jpeg',\n",
              " '22.jpeg',\n",
              " '19.jpeg',\n",
              " '44.jpeg',\n",
              " '49.jpeg',\n",
              " '24.jpeg',\n",
              " '56.jpeg',\n",
              " '32.jpeg',\n",
              " '29.jpeg',\n",
              " '43.jpeg',\n",
              " '1.jpeg',\n",
              " '11.jpeg',\n",
              " '16.jpg',\n",
              " '68.jpeg',\n",
              " '45.jpeg',\n",
              " '23.jpeg',\n",
              " '71.jpeg',\n",
              " '20.jpeg',\n",
              " '36.jpeg',\n",
              " '28.jpeg',\n",
              " '41.jpeg',\n",
              " '59.jpeg',\n",
              " '61.jpeg',\n",
              " '64.jpeg',\n",
              " '21.jpeg',\n",
              " '17.jpg',\n",
              " '42.jpeg',\n",
              " '33.jpeg',\n",
              " '57.jpeg',\n",
              " '51.jpeg',\n",
              " '40.jpeg']"
            ]
          },
          "metadata": {},
          "execution_count": 6
        }
      ]
    },
    {
      "cell_type": "code",
      "source": [
        "# sorting your file names list will allow you to just use index on the list, as the names of images and annots are same,\n",
        "# if you ask for 5th object in both the list, you will get the image and annotation for that image only\n",
        "\n",
        "images_name_list = sorted(images_name_list)\n",
        "\n",
        "# ------------------------------------------------------------\n",
        "# TASK -1\n",
        "\n",
        "# Similarly perform sorting for \"annots_name_list\".\n",
        "\n",
        "\n",
        "annots_name_list = sorted(annots_name_list)   #?????????????????????????????? Let students to decide\n",
        "\n",
        "# ------------------------------------------------------------"
      ],
      "metadata": {
        "execution": {
          "iopub.status.busy": "2021-12-27T12:39:03.862981Z",
          "iopub.execute_input": "2021-12-27T12:39:03.863634Z",
          "iopub.status.idle": "2021-12-27T12:39:03.873126Z",
          "shell.execute_reply.started": "2021-12-27T12:39:03.863599Z",
          "shell.execute_reply": "2021-12-27T12:39:03.872431Z"
        },
        "trusted": true,
        "id": "AvsO694E-znJ"
      },
      "execution_count": null,
      "outputs": []
    },
    {
      "cell_type": "code",
      "source": [
        "# to look at the images and annotation names from index 0 to 4 i.e. 5 from starting\n",
        "\n",
        "print(annots_name_list[:5])\n",
        "print(images_name_list[:5])"
      ],
      "metadata": {
        "execution": {
          "iopub.status.busy": "2021-12-27T12:39:03.874286Z",
          "iopub.execute_input": "2021-12-27T12:39:03.874891Z",
          "iopub.status.idle": "2021-12-27T12:39:03.884475Z",
          "shell.execute_reply.started": "2021-12-27T12:39:03.874859Z",
          "shell.execute_reply": "2021-12-27T12:39:03.883605Z"
        },
        "trusted": true,
        "colab": {
          "base_uri": "https://localhost:8080/"
        },
        "id": "t1quFvO1-znJ",
        "outputId": "8286861a-de32-48bf-b67b-d65e64e34b47"
      },
      "execution_count": null,
      "outputs": [
        {
          "output_type": "stream",
          "name": "stdout",
          "text": [
            "['0.xml', '1.xml', '10.xml', '11.xml', '12.xml']\n",
            "['0.jpeg', '1.jpeg', '10.jpeg', '11.jpeg', '12.jpeg']\n"
          ]
        }
      ]
    },
    {
      "cell_type": "markdown",
      "source": [
        "As you can see, filenames in both lists are perfectly aligned"
      ],
      "metadata": {
        "id": "Rdfr6M6n-znK"
      }
    },
    {
      "cell_type": "code",
      "source": [
        "# lets check out one of our image\n",
        "# again, please follow along the documentations of all the functions used...\n",
        "img = Image.open(os.path.join(IMAGE_DIR, \"1.jpeg\"))\n",
        "img  = np.asarray(img)\n",
        "plt.imshow(img)\n",
        "print(img)\n",
        "print(type(img))\n",
        "print(img.shape)\n"
      ],
      "metadata": {
        "execution": {
          "iopub.status.busy": "2021-12-27T12:39:03.885621Z",
          "iopub.execute_input": "2021-12-27T12:39:03.885926Z",
          "iopub.status.idle": "2021-12-27T12:39:03.903887Z",
          "shell.execute_reply.started": "2021-12-27T12:39:03.885895Z",
          "shell.execute_reply": "2021-12-27T12:39:03.903207Z"
        },
        "trusted": true,
        "colab": {
          "base_uri": "https://localhost:8080/",
          "height": 1000
        },
        "id": "68Mz_HOX-znK",
        "outputId": "0b15626b-709b-41f2-a688-b0788a950527"
      },
      "execution_count": null,
      "outputs": [
        {
          "output_type": "stream",
          "name": "stdout",
          "text": [
            "[[[2 3 5]\n",
            "  [2 3 5]\n",
            "  [2 3 5]\n",
            "  ...\n",
            "  [2 3 5]\n",
            "  [2 3 5]\n",
            "  [2 3 5]]\n",
            "\n",
            " [[2 3 5]\n",
            "  [2 3 5]\n",
            "  [2 3 5]\n",
            "  ...\n",
            "  [2 3 5]\n",
            "  [2 3 5]\n",
            "  [2 3 5]]\n",
            "\n",
            " [[2 3 5]\n",
            "  [2 3 5]\n",
            "  [2 3 5]\n",
            "  ...\n",
            "  [2 3 5]\n",
            "  [2 3 5]\n",
            "  [2 3 5]]\n",
            "\n",
            " ...\n",
            "\n",
            " [[1 3 2]\n",
            "  [1 3 2]\n",
            "  [1 3 2]\n",
            "  ...\n",
            "  [1 1 1]\n",
            "  [1 1 1]\n",
            "  [1 1 1]]\n",
            "\n",
            " [[2 2 2]\n",
            "  [2 2 2]\n",
            "  [2 2 2]\n",
            "  ...\n",
            "  [1 3 2]\n",
            "  [1 3 2]\n",
            "  [1 3 2]]\n",
            "\n",
            " [[2 2 2]\n",
            "  [2 2 2]\n",
            "  [2 2 2]\n",
            "  ...\n",
            "  [1 3 2]\n",
            "  [1 3 2]\n",
            "  [1 3 2]]]\n",
            "<class 'numpy.ndarray'>\n",
            "(258, 196, 3)\n"
          ]
        },
        {
          "output_type": "display_data",
          "data": {
            "text/plain": [
              "<Figure size 432x288 with 1 Axes>"
            ],
            "image/png": "[encoded data removed]"
          },
          "metadata": {
            "needs_background": "light"
          }
        }
      ]
    },
    {
      "cell_type": "code",
      "source": [
        "img_reduced = img/255            # Pixel Value range for each Color channel (0 to 255)\n",
        "plt.imshow(img_reduced)\n",
        "print(img_reduced)\n",
        "print(type(img_reduced))\n",
        "print(img_reduced.shape)"
      ],
      "metadata": {
        "colab": {
          "base_uri": "https://localhost:8080/",
          "height": 1000
        },
        "id": "BTVNZpWBInd3",
        "outputId": "d4b54b4e-08b5-4b24-9e8c-bedb1e73e12b"
      },
      "execution_count": null,
      "outputs": [
        {
          "output_type": "stream",
          "name": "stdout",
          "text": [
            "[[[0.00784314 0.01176471 0.01960784]\n",
            "  [0.00784314 0.01176471 0.01960784]\n",
            "  [0.00784314 0.01176471 0.01960784]\n",
            "  ...\n",
            "  [0.00784314 0.01176471 0.01960784]\n",
            "  [0.00784314 0.01176471 0.01960784]\n",
            "  [0.00784314 0.01176471 0.01960784]]\n",
            "\n",
            " [[0.00784314 0.01176471 0.01960784]\n",
            "  [0.00784314 0.01176471 0.01960784]\n",
            "  [0.00784314 0.01176471 0.01960784]\n",
            "  ...\n",
            "  [0.00784314 0.01176471 0.01960784]\n",
            "  [0.00784314 0.01176471 0.01960784]\n",
            "  [0.00784314 0.01176471 0.01960784]]\n",
            "\n",
            " [[0.00784314 0.01176471 0.01960784]\n",
            "  [0.00784314 0.01176471 0.01960784]\n",
            "  [0.00784314 0.01176471 0.01960784]\n",
            "  ...\n",
            "  [0.00784314 0.01176471 0.01960784]\n",
            "  [0.00784314 0.01176471 0.01960784]\n",
            "  [0.00784314 0.01176471 0.01960784]]\n",
            "\n",
            " ...\n",
            "\n",
            " [[0.00392157 0.01176471 0.00784314]\n",
            "  [0.00392157 0.01176471 0.00784314]\n",
            "  [0.00392157 0.01176471 0.00784314]\n",
            "  ...\n",
            "  [0.00392157 0.00392157 0.00392157]\n",
            "  [0.00392157 0.00392157 0.00392157]\n",
            "  [0.00392157 0.00392157 0.00392157]]\n",
            "\n",
            " [[0.00784314 0.00784314 0.00784314]\n",
            "  [0.00784314 0.00784314 0.00784314]\n",
            "  [0.00784314 0.00784314 0.00784314]\n",
            "  ...\n",
            "  [0.00392157 0.01176471 0.00784314]\n",
            "  [0.00392157 0.01176471 0.00784314]\n",
            "  [0.00392157 0.01176471 0.00784314]]\n",
            "\n",
            " [[0.00784314 0.00784314 0.00784314]\n",
            "  [0.00784314 0.00784314 0.00784314]\n",
            "  [0.00784314 0.00784314 0.00784314]\n",
            "  ...\n",
            "  [0.00392157 0.01176471 0.00784314]\n",
            "  [0.00392157 0.01176471 0.00784314]\n",
            "  [0.00392157 0.01176471 0.00784314]]]\n",
            "<class 'numpy.ndarray'>\n",
            "(258, 196, 3)\n"
          ]
        },
        {
          "output_type": "display_data",
          "data": {
            "text/plain": [
              "<Figure size 432x288 with 1 Axes>"
            ],
            "image/png": "[encoded data removed]"
          },
          "metadata": {
            "needs_background": "light"
          }
        }
      ]
    },
    {
      "cell_type": "code",
      "source": [
        "img = cv2.resize(img_reduced, (224, 224))"
      ],
      "metadata": {
        "id": "9wovYwo7PI4x"
      },
      "execution_count": null,
      "outputs": []
    },
    {
      "cell_type": "code",
      "source": [
        "plt.imshow(img)"
      ],
      "metadata": {
        "colab": {
          "base_uri": "https://localhost:8080/",
          "height": 286
        },
        "id": "DC4cHb_ETPtC",
        "outputId": "9154f6de-d4ad-4312-af66-04a8a51c3755"
      },
      "execution_count": null,
      "outputs": [
        {
          "output_type": "execute_result",
          "data": {
            "text/plain": [
              "<matplotlib.image.AxesImage at 0x7fe15f463250>"
            ]
          },
          "metadata": {},
          "execution_count": 13
        },
        {
          "output_type": "display_data",
          "data": {
            "text/plain": [
              "<Figure size 432x288 with 1 Axes>"
            ],
            "image/png": "[encoded data removed]"
          },
          "metadata": {
            "needs_background": "light"
          }
        }
      ]
    },
    {
      "cell_type": "markdown",
      "source": [
        "### Now, let's prepare our images"
      ],
      "metadata": {
        "id": "v2qpr6Ex-znK"
      }
    },
    {
      "cell_type": "code",
      "source": [
        "# image size, width = height = 224 pixels\n",
        "\n",
        "IMAGE_SIZE = 224\n",
        "\n",
        "# X will our main image array and it will contain all the images array\n",
        "# first we are defining it as a list\n",
        "\n",
        "X = []\n",
        "\n",
        "# using for loop to iterate through all the objects in the images_name_list, objects are file names\n",
        "for img_name in images_name_list:\n",
        "    \n",
        "    # joining path to image dir to image name to get the full path to the image\n",
        "    img_path = os.path.join(IMAGE_DIR, img_name) \n",
        "    \n",
        "    # imread is used to read an image from file path, it return an array of the image \n",
        "    # 1 is used because we want RGB image, if you want to use greyscale image, use 0.\n",
        "    img = cv2.imread(img_path, 1)\n",
        "    \n",
        "    # resize all image to a fix size (224, 224, 3). 3 defines the channels (Red, green blue)\n",
        "    img = cv2.resize(img, (IMAGE_SIZE, IMAGE_SIZE))    #?????????????????? Let students to decide \n",
        "    \n",
        "    # appending all the images to X, one by one\n",
        "    X.append(img)\n",
        "    \n",
        "# Converting into array\n",
        "X = np.asarray(X, dtype = np.float32)\n",
        "print('X_shape before reshaping',X.shape)"
      ],
      "metadata": {
        "colab": {
          "base_uri": "https://localhost:8080/"
        },
        "id": "iJ0TGEuZQA-A",
        "outputId": "5d86c559-dd58-4903-bd7d-e8a003cc932c"
      },
      "execution_count": null,
      "outputs": [
        {
          "output_type": "stream",
          "name": "stdout",
          "text": [
            "X_shape before reshaping (75, 224, 224, 3)\n"
          ]
        }
      ]
    },
    {
      "cell_type": "code",
      "source": [
        "X"
      ],
      "metadata": {
        "colab": {
          "base_uri": "https://localhost:8080/"
        },
        "id": "Q80EQ4N6QO8_",
        "outputId": "964f5495-f978-44f6-93c7-99da5de8baf0"
      },
      "execution_count": null,
      "outputs": [
        {
          "output_type": "execute_result",
          "data": {
            "text/plain": [
              "array([[[[ 49.,  16.,   7.],\n",
              "         [ 49.,  15.,   7.],\n",
              "         [ 50.,  14.,   6.],\n",
              "         ...,\n",
              "         [ 24.,   3.,   2.],\n",
              "         [ 21.,   2.,   2.],\n",
              "         [ 33.,  12.,  14.]],\n",
              "\n",
              "        [[ 49.,  16.,   7.],\n",
              "         [ 49.,  15.,   6.],\n",
              "         [ 50.,  14.,   6.],\n",
              "         ...,\n",
              "         [ 22.,   2.,   1.],\n",
              "         [ 20.,   1.,   0.],\n",
              "         [ 28.,   8.,  10.]],\n",
              "\n",
              "        [[ 49.,  15.,   6.],\n",
              "         [ 49.,  14.,   6.],\n",
              "         [ 50.,  14.,   5.],\n",
              "         ...,\n",
              "         [ 22.,   1.,   0.],\n",
              "         [ 22.,   3.,   3.],\n",
              "         [ 23.,   3.,   4.]],\n",
              "\n",
              "        ...,\n",
              "\n",
              "        [[111.,  50.,  14.],\n",
              "         [131.,  69.,  33.],\n",
              "         [158.,  97.,  61.],\n",
              "         ...,\n",
              "         [ 34.,   6.,   1.],\n",
              "         [ 34.,   6.,   1.],\n",
              "         [ 34.,   6.,   1.]],\n",
              "\n",
              "        [[113.,  51.,  15.],\n",
              "         [125.,  63.,  27.],\n",
              "         [128.,  67.,  31.],\n",
              "         ...,\n",
              "         [ 34.,   5.,   1.],\n",
              "         [ 34.,   5.,   1.],\n",
              "         [ 34.,   5.,   1.]],\n",
              "\n",
              "        [[113.,  51.,  15.],\n",
              "         [118.,  56.,  21.],\n",
              "         [109.,  47.,  13.],\n",
              "         ...,\n",
              "         [ 34.,   5.,   1.],\n",
              "         [ 34.,   5.,   1.],\n",
              "         [ 34.,   5.,   1.]]],\n",
              "\n",
              "\n",
              "       [[[  5.,   3.,   2.],\n",
              "         [  5.,   3.,   2.],\n",
              "         [  5.,   3.,   2.],\n",
              "         ...,\n",
              "         [  5.,   3.,   2.],\n",
              "         [  5.,   3.,   2.],\n",
              "         [  5.,   3.,   2.]],\n",
              "\n",
              "        [[  5.,   3.,   2.],\n",
              "         [  5.,   3.,   2.],\n",
              "         [  5.,   3.,   2.],\n",
              "         ...,\n",
              "         [  5.,   3.,   2.],\n",
              "         [  5.,   3.,   2.],\n",
              "         [  5.,   3.,   2.]],\n",
              "\n",
              "        [[  5.,   3.,   2.],\n",
              "         [  5.,   3.,   2.],\n",
              "         [  5.,   3.,   2.],\n",
              "         ...,\n",
              "         [  5.,   3.,   2.],\n",
              "         [  5.,   3.,   2.],\n",
              "         [  5.,   3.,   2.]],\n",
              "\n",
              "        ...,\n",
              "\n",
              "        [[  2.,   3.,   1.],\n",
              "         [  2.,   3.,   1.],\n",
              "         [  2.,   3.,   1.],\n",
              "         ...,\n",
              "         [  1.,   1.,   1.],\n",
              "         [  1.,   1.,   1.],\n",
              "         [  1.,   1.,   1.]],\n",
              "\n",
              "        [[  2.,   2.,   2.],\n",
              "         [  2.,   2.,   2.],\n",
              "         [  2.,   2.,   2.],\n",
              "         ...,\n",
              "         [  2.,   2.,   1.],\n",
              "         [  2.,   2.,   1.],\n",
              "         [  2.,   2.,   1.]],\n",
              "\n",
              "        [[  2.,   2.,   2.],\n",
              "         [  2.,   2.,   2.],\n",
              "         [  2.,   2.,   2.],\n",
              "         ...,\n",
              "         [  2.,   3.,   1.],\n",
              "         [  2.,   3.,   1.],\n",
              "         [  2.,   3.,   1.]]],\n",
              "\n",
              "\n",
              "       [[[ 27.,  22.,  13.],\n",
              "         [ 29.,  24.,  15.],\n",
              "         [ 32.,  27.,  18.],\n",
              "         ...,\n",
              "         [ 39.,  36.,  28.],\n",
              "         [ 39.,  36.,  28.],\n",
              "         [ 39.,  36.,  28.]],\n",
              "\n",
              "        [[ 27.,  22.,  13.],\n",
              "         [ 29.,  24.,  15.],\n",
              "         [ 31.,  26.,  17.],\n",
              "         ...,\n",
              "         [ 39.,  36.,  28.],\n",
              "         [ 39.,  36.,  28.],\n",
              "         [ 39.,  36.,  28.]],\n",
              "\n",
              "        [[ 26.,  21.,  12.],\n",
              "         [ 28.,  23.,  14.],\n",
              "         [ 31.,  25.,  17.],\n",
              "         ...,\n",
              "         [ 39.,  36.,  28.],\n",
              "         [ 39.,  36.,  28.],\n",
              "         [ 39.,  36.,  28.]],\n",
              "\n",
              "        ...,\n",
              "\n",
              "        [[ 19.,  14.,  11.],\n",
              "         [ 22.,  17.,  14.],\n",
              "         [ 24.,  19.,  16.],\n",
              "         ...,\n",
              "         [ 16.,  11.,   8.],\n",
              "         [ 16.,  11.,   8.],\n",
              "         [ 16.,  11.,   8.]],\n",
              "\n",
              "        [[ 17.,  13.,  10.],\n",
              "         [ 20.,  15.,  12.],\n",
              "         [ 23.,  18.,  15.],\n",
              "         ...,\n",
              "         [ 16.,  11.,   8.],\n",
              "         [ 16.,  11.,   8.],\n",
              "         [ 16.,  11.,   8.]],\n",
              "\n",
              "        [[ 16.,  11.,   8.],\n",
              "         [ 19.,  14.,  11.],\n",
              "         [ 23.,  18.,  15.],\n",
              "         ...,\n",
              "         [ 16.,  11.,   8.],\n",
              "         [ 16.,  11.,   8.],\n",
              "         [ 16.,  11.,   8.]]],\n",
              "\n",
              "\n",
              "       ...,\n",
              "\n",
              "\n",
              "       [[[ 25.,  20.,  19.],\n",
              "         [ 25.,  20.,  19.],\n",
              "         [ 25.,  20.,  19.],\n",
              "         ...,\n",
              "         [ 19.,  17.,  16.],\n",
              "         [ 19.,  17.,  16.],\n",
              "         [ 25.,  19.,  19.]],\n",
              "\n",
              "        [[ 25.,  20.,  19.],\n",
              "         [ 25.,  20.,  19.],\n",
              "         [ 25.,  20.,  19.],\n",
              "         ...,\n",
              "         [ 19.,  17.,  16.],\n",
              "         [ 19.,  17.,  16.],\n",
              "         [ 24.,  19.,  20.]],\n",
              "\n",
              "        [[ 25.,  20.,  19.],\n",
              "         [ 25.,  20.,  19.],\n",
              "         [ 25.,  20.,  19.],\n",
              "         ...,\n",
              "         [ 19.,  17.,  16.],\n",
              "         [ 19.,  17.,  16.],\n",
              "         [ 24.,  19.,  20.]],\n",
              "\n",
              "        ...,\n",
              "\n",
              "        [[ 22.,  20.,  19.],\n",
              "         [ 22.,  20.,  19.],\n",
              "         [ 21.,  19.,  18.],\n",
              "         ...,\n",
              "         [ 24.,  18.,  16.],\n",
              "         [ 23.,  18.,  16.],\n",
              "         [ 20.,  19.,  20.]],\n",
              "\n",
              "        [[ 22.,  20.,  19.],\n",
              "         [ 22.,  20.,  19.],\n",
              "         [ 21.,  19.,  18.],\n",
              "         ...,\n",
              "         [ 24.,  18.,  16.],\n",
              "         [ 24.,  18.,  16.],\n",
              "         [ 20.,  20.,  20.]],\n",
              "\n",
              "        [[ 22.,  20.,  19.],\n",
              "         [ 22.,  20.,  19.],\n",
              "         [ 21.,  19.,  18.],\n",
              "         ...,\n",
              "         [ 25.,  19.,  17.],\n",
              "         [ 24.,  19.,  16.],\n",
              "         [ 19.,  19.,  19.]]],\n",
              "\n",
              "\n",
              "       [[[ 94.,  84.,  37.],\n",
              "         [ 87.,  77.,  30.],\n",
              "         [ 87.,  76.,  32.],\n",
              "         ...,\n",
              "         [ 96.,  80.,  44.],\n",
              "         [ 96.,  80.,  44.],\n",
              "         [ 96.,  80.,  44.]],\n",
              "\n",
              "        [[105.,  94.,  51.],\n",
              "         [ 99.,  88.,  45.],\n",
              "         [ 96.,  84.,  42.],\n",
              "         ...,\n",
              "         [ 96.,  80.,  44.],\n",
              "         [ 96.,  80.,  44.],\n",
              "         [ 96.,  80.,  44.]],\n",
              "\n",
              "        [[103.,  91.,  51.],\n",
              "         [100.,  88.,  49.],\n",
              "         [ 96.,  84.,  46.],\n",
              "         ...,\n",
              "         [ 96.,  80.,  44.],\n",
              "         [ 96.,  80.,  44.],\n",
              "         [ 96.,  80.,  44.]],\n",
              "\n",
              "        ...,\n",
              "\n",
              "        [[  4.,   1.,   2.],\n",
              "         [  6.,   3.,   4.],\n",
              "         [  6.,   4.,   4.],\n",
              "         ...,\n",
              "         [ 11.,   8.,  11.],\n",
              "         [ 13.,   9.,  11.],\n",
              "         [  5.,   2.,   2.]],\n",
              "\n",
              "        [[  1.,   1.,   4.],\n",
              "         [  5.,   5.,   8.],\n",
              "         [  5.,   6.,   8.],\n",
              "         ...,\n",
              "         [ 26.,  23.,  21.],\n",
              "         [ 33.,  29.,  25.],\n",
              "         [ 13.,   7.,   4.]],\n",
              "\n",
              "        [[  0.,   0.,   3.],\n",
              "         [  1.,   2.,   5.],\n",
              "         [  1.,   2.,   5.],\n",
              "         ...,\n",
              "         [ 44.,  40.,  37.],\n",
              "         [ 53.,  49.,  45.],\n",
              "         [ 28.,  23.,  17.]]],\n",
              "\n",
              "\n",
              "       [[[ 37.,  26.,  12.],\n",
              "         [ 37.,  26.,  12.],\n",
              "         [ 37.,  26.,  12.],\n",
              "         ...,\n",
              "         [ 40.,  32.,  19.],\n",
              "         [ 40.,  32.,  19.],\n",
              "         [ 40.,  32.,  19.]],\n",
              "\n",
              "        [[ 37.,  26.,  12.],\n",
              "         [ 37.,  26.,  12.],\n",
              "         [ 37.,  26.,  12.],\n",
              "         ...,\n",
              "         [ 40.,  32.,  19.],\n",
              "         [ 40.,  32.,  19.],\n",
              "         [ 40.,  32.,  19.]],\n",
              "\n",
              "        [[ 37.,  27.,  11.],\n",
              "         [ 37.,  27.,  11.],\n",
              "         [ 37.,  27.,  11.],\n",
              "         ...,\n",
              "         [ 40.,  32.,  19.],\n",
              "         [ 40.,  32.,  19.],\n",
              "         [ 40.,  32.,  19.]],\n",
              "\n",
              "        ...,\n",
              "\n",
              "        [[ 19.,  13.,  14.],\n",
              "         [ 19.,  13.,  14.],\n",
              "         [ 19.,  13.,  14.],\n",
              "         ...,\n",
              "         [ 23.,  15.,  22.],\n",
              "         [ 23.,  15.,  22.],\n",
              "         [ 23.,  15.,  22.]],\n",
              "\n",
              "        [[ 19.,  13.,  14.],\n",
              "         [ 19.,  13.,  14.],\n",
              "         [ 19.,  13.,  14.],\n",
              "         ...,\n",
              "         [ 23.,  15.,  22.],\n",
              "         [ 23.,  15.,  22.],\n",
              "         [ 23.,  15.,  22.]],\n",
              "\n",
              "        [[ 19.,  13.,  14.],\n",
              "         [ 19.,  13.,  14.],\n",
              "         [ 19.,  13.,  14.],\n",
              "         ...,\n",
              "         [ 22.,  14.,  21.],\n",
              "         [ 22.,  14.,  21.],\n",
              "         [ 22.,  14.,  21.]]]], dtype=float32)"
            ]
          },
          "metadata": {},
          "execution_count": 15
        }
      ]
    },
    {
      "cell_type": "code",
      "source": [
        "# pixel range is 0-255 currently. \n",
        "# we will normalize it between (0-1) for less computation\n",
        "X = X/255.0\n",
        "\n",
        "# lets check the final shape of the Final Image Array\n",
        "print('X_Shape afer reshaping',X.shape)"
      ],
      "metadata": {
        "execution": {
          "iopub.status.busy": "2021-12-27T12:39:03.904852Z",
          "iopub.execute_input": "2021-12-27T12:39:03.90542Z",
          "iopub.status.idle": "2021-12-27T12:39:04.400828Z",
          "shell.execute_reply.started": "2021-12-27T12:39:03.905387Z",
          "shell.execute_reply": "2021-12-27T12:39:04.399814Z"
        },
        "trusted": true,
        "colab": {
          "base_uri": "https://localhost:8080/"
        },
        "id": "26OpkCWM-znK",
        "outputId": "9922ff45-de77-42bf-dd64-678f148d8730"
      },
      "execution_count": null,
      "outputs": [
        {
          "output_type": "stream",
          "name": "stdout",
          "text": [
            "X_Shape afer reshaping (75, 224, 224, 3)\n"
          ]
        }
      ]
    },
    {
      "cell_type": "code",
      "source": [
        "X"
      ],
      "metadata": {
        "colab": {
          "base_uri": "https://localhost:8080/"
        },
        "id": "oGc02RBoQnQA",
        "outputId": "d2eabaa5-d751-4960-e958-2a7aa06973b2"
      },
      "execution_count": null,
      "outputs": [
        {
          "output_type": "execute_result",
          "data": {
            "text/plain": [
              "array([[[[0.19215687, 0.0627451 , 0.02745098],\n",
              "         [0.19215687, 0.05882353, 0.02745098],\n",
              "         [0.19607843, 0.05490196, 0.02352941],\n",
              "         ...,\n",
              "         [0.09411765, 0.01176471, 0.00784314],\n",
              "         [0.08235294, 0.00784314, 0.00784314],\n",
              "         [0.12941177, 0.04705882, 0.05490196]],\n",
              "\n",
              "        [[0.19215687, 0.0627451 , 0.02745098],\n",
              "         [0.19215687, 0.05882353, 0.02352941],\n",
              "         [0.19607843, 0.05490196, 0.02352941],\n",
              "         ...,\n",
              "         [0.08627451, 0.00784314, 0.00392157],\n",
              "         [0.07843138, 0.00392157, 0.        ],\n",
              "         [0.10980392, 0.03137255, 0.03921569]],\n",
              "\n",
              "        [[0.19215687, 0.05882353, 0.02352941],\n",
              "         [0.19215687, 0.05490196, 0.02352941],\n",
              "         [0.19607843, 0.05490196, 0.01960784],\n",
              "         ...,\n",
              "         [0.08627451, 0.00392157, 0.        ],\n",
              "         [0.08627451, 0.01176471, 0.01176471],\n",
              "         [0.09019608, 0.01176471, 0.01568628]],\n",
              "\n",
              "        ...,\n",
              "\n",
              "        [[0.43529412, 0.19607843, 0.05490196],\n",
              "         [0.5137255 , 0.27058825, 0.12941177],\n",
              "         [0.61960787, 0.38039216, 0.23921569],\n",
              "         ...,\n",
              "         [0.13333334, 0.02352941, 0.00392157],\n",
              "         [0.13333334, 0.02352941, 0.00392157],\n",
              "         [0.13333334, 0.02352941, 0.00392157]],\n",
              "\n",
              "        [[0.44313726, 0.2       , 0.05882353],\n",
              "         [0.49019608, 0.24705882, 0.10588235],\n",
              "         [0.5019608 , 0.2627451 , 0.12156863],\n",
              "         ...,\n",
              "         [0.13333334, 0.01960784, 0.00392157],\n",
              "         [0.13333334, 0.01960784, 0.00392157],\n",
              "         [0.13333334, 0.01960784, 0.00392157]],\n",
              "\n",
              "        [[0.44313726, 0.2       , 0.05882353],\n",
              "         [0.4627451 , 0.21960784, 0.08235294],\n",
              "         [0.42745098, 0.18431373, 0.05098039],\n",
              "         ...,\n",
              "         [0.13333334, 0.01960784, 0.00392157],\n",
              "         [0.13333334, 0.01960784, 0.00392157],\n",
              "         [0.13333334, 0.01960784, 0.00392157]]],\n",
              "\n",
              "\n",
              "       [[[0.01960784, 0.01176471, 0.00784314],\n",
              "         [0.01960784, 0.01176471, 0.00784314],\n",
              "         [0.01960784, 0.01176471, 0.00784314],\n",
              "         ...,\n",
              "         [0.01960784, 0.01176471, 0.00784314],\n",
              "         [0.01960784, 0.01176471, 0.00784314],\n",
              "         [0.01960784, 0.01176471, 0.00784314]],\n",
              "\n",
              "        [[0.01960784, 0.01176471, 0.00784314],\n",
              "         [0.01960784, 0.01176471, 0.00784314],\n",
              "         [0.01960784, 0.01176471, 0.00784314],\n",
              "         ...,\n",
              "         [0.01960784, 0.01176471, 0.00784314],\n",
              "         [0.01960784, 0.01176471, 0.00784314],\n",
              "         [0.01960784, 0.01176471, 0.00784314]],\n",
              "\n",
              "        [[0.01960784, 0.01176471, 0.00784314],\n",
              "         [0.01960784, 0.01176471, 0.00784314],\n",
              "         [0.01960784, 0.01176471, 0.00784314],\n",
              "         ...,\n",
              "         [0.01960784, 0.01176471, 0.00784314],\n",
              "         [0.01960784, 0.01176471, 0.00784314],\n",
              "         [0.01960784, 0.01176471, 0.00784314]],\n",
              "\n",
              "        ...,\n",
              "\n",
              "        [[0.00784314, 0.01176471, 0.00392157],\n",
              "         [0.00784314, 0.01176471, 0.00392157],\n",
              "         [0.00784314, 0.01176471, 0.00392157],\n",
              "         ...,\n",
              "         [0.00392157, 0.00392157, 0.00392157],\n",
              "         [0.00392157, 0.00392157, 0.00392157],\n",
              "         [0.00392157, 0.00392157, 0.00392157]],\n",
              "\n",
              "        [[0.00784314, 0.00784314, 0.00784314],\n",
              "         [0.00784314, 0.00784314, 0.00784314],\n",
              "         [0.00784314, 0.00784314, 0.00784314],\n",
              "         ...,\n",
              "         [0.00784314, 0.00784314, 0.00392157],\n",
              "         [0.00784314, 0.00784314, 0.00392157],\n",
              "         [0.00784314, 0.00784314, 0.00392157]],\n",
              "\n",
              "        [[0.00784314, 0.00784314, 0.00784314],\n",
              "         [0.00784314, 0.00784314, 0.00784314],\n",
              "         [0.00784314, 0.00784314, 0.00784314],\n",
              "         ...,\n",
              "         [0.00784314, 0.01176471, 0.00392157],\n",
              "         [0.00784314, 0.01176471, 0.00392157],\n",
              "         [0.00784314, 0.01176471, 0.00392157]]],\n",
              "\n",
              "\n",
              "       [[[0.10588235, 0.08627451, 0.05098039],\n",
              "         [0.11372549, 0.09411765, 0.05882353],\n",
              "         [0.1254902 , 0.10588235, 0.07058824],\n",
              "         ...,\n",
              "         [0.15294118, 0.14117648, 0.10980392],\n",
              "         [0.15294118, 0.14117648, 0.10980392],\n",
              "         [0.15294118, 0.14117648, 0.10980392]],\n",
              "\n",
              "        [[0.10588235, 0.08627451, 0.05098039],\n",
              "         [0.11372549, 0.09411765, 0.05882353],\n",
              "         [0.12156863, 0.10196079, 0.06666667],\n",
              "         ...,\n",
              "         [0.15294118, 0.14117648, 0.10980392],\n",
              "         [0.15294118, 0.14117648, 0.10980392],\n",
              "         [0.15294118, 0.14117648, 0.10980392]],\n",
              "\n",
              "        [[0.10196079, 0.08235294, 0.04705882],\n",
              "         [0.10980392, 0.09019608, 0.05490196],\n",
              "         [0.12156863, 0.09803922, 0.06666667],\n",
              "         ...,\n",
              "         [0.15294118, 0.14117648, 0.10980392],\n",
              "         [0.15294118, 0.14117648, 0.10980392],\n",
              "         [0.15294118, 0.14117648, 0.10980392]],\n",
              "\n",
              "        ...,\n",
              "\n",
              "        [[0.07450981, 0.05490196, 0.04313726],\n",
              "         [0.08627451, 0.06666667, 0.05490196],\n",
              "         [0.09411765, 0.07450981, 0.0627451 ],\n",
              "         ...,\n",
              "         [0.0627451 , 0.04313726, 0.03137255],\n",
              "         [0.0627451 , 0.04313726, 0.03137255],\n",
              "         [0.0627451 , 0.04313726, 0.03137255]],\n",
              "\n",
              "        [[0.06666667, 0.05098039, 0.03921569],\n",
              "         [0.07843138, 0.05882353, 0.04705882],\n",
              "         [0.09019608, 0.07058824, 0.05882353],\n",
              "         ...,\n",
              "         [0.0627451 , 0.04313726, 0.03137255],\n",
              "         [0.0627451 , 0.04313726, 0.03137255],\n",
              "         [0.0627451 , 0.04313726, 0.03137255]],\n",
              "\n",
              "        [[0.0627451 , 0.04313726, 0.03137255],\n",
              "         [0.07450981, 0.05490196, 0.04313726],\n",
              "         [0.09019608, 0.07058824, 0.05882353],\n",
              "         ...,\n",
              "         [0.0627451 , 0.04313726, 0.03137255],\n",
              "         [0.0627451 , 0.04313726, 0.03137255],\n",
              "         [0.0627451 , 0.04313726, 0.03137255]]],\n",
              "\n",
              "\n",
              "       ...,\n",
              "\n",
              "\n",
              "       [[[0.09803922, 0.07843138, 0.07450981],\n",
              "         [0.09803922, 0.07843138, 0.07450981],\n",
              "         [0.09803922, 0.07843138, 0.07450981],\n",
              "         ...,\n",
              "         [0.07450981, 0.06666667, 0.0627451 ],\n",
              "         [0.07450981, 0.06666667, 0.0627451 ],\n",
              "         [0.09803922, 0.07450981, 0.07450981]],\n",
              "\n",
              "        [[0.09803922, 0.07843138, 0.07450981],\n",
              "         [0.09803922, 0.07843138, 0.07450981],\n",
              "         [0.09803922, 0.07843138, 0.07450981],\n",
              "         ...,\n",
              "         [0.07450981, 0.06666667, 0.0627451 ],\n",
              "         [0.07450981, 0.06666667, 0.0627451 ],\n",
              "         [0.09411765, 0.07450981, 0.07843138]],\n",
              "\n",
              "        [[0.09803922, 0.07843138, 0.07450981],\n",
              "         [0.09803922, 0.07843138, 0.07450981],\n",
              "         [0.09803922, 0.07843138, 0.07450981],\n",
              "         ...,\n",
              "         [0.07450981, 0.06666667, 0.0627451 ],\n",
              "         [0.07450981, 0.06666667, 0.0627451 ],\n",
              "         [0.09411765, 0.07450981, 0.07843138]],\n",
              "\n",
              "        ...,\n",
              "\n",
              "        [[0.08627451, 0.07843138, 0.07450981],\n",
              "         [0.08627451, 0.07843138, 0.07450981],\n",
              "         [0.08235294, 0.07450981, 0.07058824],\n",
              "         ...,\n",
              "         [0.09411765, 0.07058824, 0.0627451 ],\n",
              "         [0.09019608, 0.07058824, 0.0627451 ],\n",
              "         [0.07843138, 0.07450981, 0.07843138]],\n",
              "\n",
              "        [[0.08627451, 0.07843138, 0.07450981],\n",
              "         [0.08627451, 0.07843138, 0.07450981],\n",
              "         [0.08235294, 0.07450981, 0.07058824],\n",
              "         ...,\n",
              "         [0.09411765, 0.07058824, 0.0627451 ],\n",
              "         [0.09411765, 0.07058824, 0.0627451 ],\n",
              "         [0.07843138, 0.07843138, 0.07843138]],\n",
              "\n",
              "        [[0.08627451, 0.07843138, 0.07450981],\n",
              "         [0.08627451, 0.07843138, 0.07450981],\n",
              "         [0.08235294, 0.07450981, 0.07058824],\n",
              "         ...,\n",
              "         [0.09803922, 0.07450981, 0.06666667],\n",
              "         [0.09411765, 0.07450981, 0.0627451 ],\n",
              "         [0.07450981, 0.07450981, 0.07450981]]],\n",
              "\n",
              "\n",
              "       [[[0.36862746, 0.32941177, 0.14509805],\n",
              "         [0.34117648, 0.3019608 , 0.11764706],\n",
              "         [0.34117648, 0.29803923, 0.1254902 ],\n",
              "         ...,\n",
              "         [0.3764706 , 0.3137255 , 0.17254902],\n",
              "         [0.3764706 , 0.3137255 , 0.17254902],\n",
              "         [0.3764706 , 0.3137255 , 0.17254902]],\n",
              "\n",
              "        [[0.4117647 , 0.36862746, 0.2       ],\n",
              "         [0.3882353 , 0.34509805, 0.1764706 ],\n",
              "         [0.3764706 , 0.32941177, 0.16470589],\n",
              "         ...,\n",
              "         [0.3764706 , 0.3137255 , 0.17254902],\n",
              "         [0.3764706 , 0.3137255 , 0.17254902],\n",
              "         [0.3764706 , 0.3137255 , 0.17254902]],\n",
              "\n",
              "        [[0.40392157, 0.35686275, 0.2       ],\n",
              "         [0.39215687, 0.34509805, 0.19215687],\n",
              "         [0.3764706 , 0.32941177, 0.18039216],\n",
              "         ...,\n",
              "         [0.3764706 , 0.3137255 , 0.17254902],\n",
              "         [0.3764706 , 0.3137255 , 0.17254902],\n",
              "         [0.3764706 , 0.3137255 , 0.17254902]],\n",
              "\n",
              "        ...,\n",
              "\n",
              "        [[0.01568628, 0.00392157, 0.00784314],\n",
              "         [0.02352941, 0.01176471, 0.01568628],\n",
              "         [0.02352941, 0.01568628, 0.01568628],\n",
              "         ...,\n",
              "         [0.04313726, 0.03137255, 0.04313726],\n",
              "         [0.05098039, 0.03529412, 0.04313726],\n",
              "         [0.01960784, 0.00784314, 0.00784314]],\n",
              "\n",
              "        [[0.00392157, 0.00392157, 0.01568628],\n",
              "         [0.01960784, 0.01960784, 0.03137255],\n",
              "         [0.01960784, 0.02352941, 0.03137255],\n",
              "         ...,\n",
              "         [0.10196079, 0.09019608, 0.08235294],\n",
              "         [0.12941177, 0.11372549, 0.09803922],\n",
              "         [0.05098039, 0.02745098, 0.01568628]],\n",
              "\n",
              "        [[0.        , 0.        , 0.01176471],\n",
              "         [0.00392157, 0.00784314, 0.01960784],\n",
              "         [0.00392157, 0.00784314, 0.01960784],\n",
              "         ...,\n",
              "         [0.17254902, 0.15686275, 0.14509805],\n",
              "         [0.20784314, 0.19215687, 0.1764706 ],\n",
              "         [0.10980392, 0.09019608, 0.06666667]]],\n",
              "\n",
              "\n",
              "       [[[0.14509805, 0.10196079, 0.04705882],\n",
              "         [0.14509805, 0.10196079, 0.04705882],\n",
              "         [0.14509805, 0.10196079, 0.04705882],\n",
              "         ...,\n",
              "         [0.15686275, 0.1254902 , 0.07450981],\n",
              "         [0.15686275, 0.1254902 , 0.07450981],\n",
              "         [0.15686275, 0.1254902 , 0.07450981]],\n",
              "\n",
              "        [[0.14509805, 0.10196079, 0.04705882],\n",
              "         [0.14509805, 0.10196079, 0.04705882],\n",
              "         [0.14509805, 0.10196079, 0.04705882],\n",
              "         ...,\n",
              "         [0.15686275, 0.1254902 , 0.07450981],\n",
              "         [0.15686275, 0.1254902 , 0.07450981],\n",
              "         [0.15686275, 0.1254902 , 0.07450981]],\n",
              "\n",
              "        [[0.14509805, 0.10588235, 0.04313726],\n",
              "         [0.14509805, 0.10588235, 0.04313726],\n",
              "         [0.14509805, 0.10588235, 0.04313726],\n",
              "         ...,\n",
              "         [0.15686275, 0.1254902 , 0.07450981],\n",
              "         [0.15686275, 0.1254902 , 0.07450981],\n",
              "         [0.15686275, 0.1254902 , 0.07450981]],\n",
              "\n",
              "        ...,\n",
              "\n",
              "        [[0.07450981, 0.05098039, 0.05490196],\n",
              "         [0.07450981, 0.05098039, 0.05490196],\n",
              "         [0.07450981, 0.05098039, 0.05490196],\n",
              "         ...,\n",
              "         [0.09019608, 0.05882353, 0.08627451],\n",
              "         [0.09019608, 0.05882353, 0.08627451],\n",
              "         [0.09019608, 0.05882353, 0.08627451]],\n",
              "\n",
              "        [[0.07450981, 0.05098039, 0.05490196],\n",
              "         [0.07450981, 0.05098039, 0.05490196],\n",
              "         [0.07450981, 0.05098039, 0.05490196],\n",
              "         ...,\n",
              "         [0.09019608, 0.05882353, 0.08627451],\n",
              "         [0.09019608, 0.05882353, 0.08627451],\n",
              "         [0.09019608, 0.05882353, 0.08627451]],\n",
              "\n",
              "        [[0.07450981, 0.05098039, 0.05490196],\n",
              "         [0.07450981, 0.05098039, 0.05490196],\n",
              "         [0.07450981, 0.05098039, 0.05490196],\n",
              "         ...,\n",
              "         [0.08627451, 0.05490196, 0.08235294],\n",
              "         [0.08627451, 0.05490196, 0.08235294],\n",
              "         [0.08627451, 0.05490196, 0.08235294]]]], dtype=float32)"
            ]
          },
          "metadata": {},
          "execution_count": 17
        }
      ]
    },
    {
      "cell_type": "markdown",
      "source": [
        "#### Preparing our Moon detection boxes in the Image"
      ],
      "metadata": {
        "id": "qAIQXtOG-znK"
      }
    },
    {
      "cell_type": "code",
      "source": [
        "annot_path = os.path.join(ANNOT_DIR, annots_name_list[1])\n",
        "\n",
        "# for our python to understand the xml files, we need an XML parser\n",
        "# ET from xml module create a tree structure of the whole xml file\n",
        "\n",
        "import xml.etree.ElementTree as ET\n",
        "\n",
        "'''\n",
        "<annotation>\n",
        "\t<folder>Images</folder>\n",
        "\t<filename>1.jpeg</filename>\n",
        "\t<path>/home/yash/Downloads/Moon dataset/Images/1.jpeg</path>\n",
        "\t<source>\n",
        "\t\t<database>Unknown</database>\n",
        "\t</source>\n",
        "\t<size>\n",
        "\t\t<width>196</width>\n",
        "\t\t<height>258</height>\n",
        "\t\t<depth>3</depth>\n",
        "\t</size>\n",
        "\t<segmented>0</segmented>\n",
        "\t<object>\n",
        "\t\t<name>moon</name>\n",
        "\t\t<pose>Unspecified</pose>\n",
        "\t\t<truncated>0</truncated>\n",
        "\t\t<difficult>0</difficult>\n",
        "\t\t<bndbox>\n",
        "\t\t\t<xmin>87</xmin>\n",
        "\t\t\t<ymin>129</ymin>\n",
        "\t\t\t<xmax>113</xmax>\n",
        "\t\t\t<ymax>158</ymax>\n",
        "\t\t</bndbox>\n",
        "\t</object>\n",
        "</annotation>\n",
        "\n",
        "This is what the whole structure of an xml file looks like\n",
        "'''\n",
        "\n",
        "\n",
        "# parsing an xml file from the file name\n",
        "tree = ET.parse(annot_path)\n",
        "\n",
        "# getting the root element\n",
        "root = tree.getroot()\n",
        "# root has a tag (\"annotation\") and a dictionary of attributes:\n",
        "\n",
        "# now we need to find the size of our image file\n",
        "size = root.find(\"size\")\n",
        "\n",
        "# extracting height and width of image file\n",
        "h = int(size.find(\"height\").text)\n",
        "w = int(size.find(\"width\").text)\n",
        "\n",
        "# extracting coordinates of bounding box of our moon \n",
        "bndbox = root.find(\"object\").find(\"bndbox\")\n",
        "\n",
        "# top left of image is (0,0) and then it increase to rightwards and downwards\n",
        "# xmin and ymin are the coordinates of upper left corner and\n",
        "# xmax and ymax are the coordinates of the lower right corner\n",
        "xmin = int(bndbox.find(\"xmin\").text)/w\n",
        "xmax = int(bndbox.find(\"xmax\").text)/w\n",
        "\n",
        "# ------------------------------------------------------------------------\n",
        "\n",
        "#TASK - 3\n",
        "\n",
        "# similarly do it for ymin and ymax too\n",
        "\n",
        "# HINT: key is devide by height instead of width\n",
        "\n",
        "ymin = int(bndbox.find(\"ymin\").text)/h           #????????????? Let students to decide\n",
        "ymax = int(bndbox.find(\"ymax\").text)/h           #????????????? Let students to decide\n",
        "\n",
        "#--------------------------------------------------------------------------\n",
        "\n",
        "# now here is an important thing to understand\n",
        "# remember we resized our image to a specific size (224, 224), but our annotations stayed the same. \n",
        "# so what we did here above is reduced the value of coordinates with unitery method \n",
        "# and now we will multiply them with our required size to fix them exactly as we need\n",
        "xmin = int(xmin * 224)\n",
        "xmax = int(xmax * 224)\n",
        "ymin = int(ymin * 224)\n",
        "ymax = int(ymax * 224)\n"
      ],
      "metadata": {
        "execution": {
          "iopub.status.busy": "2021-12-27T12:39:04.402442Z",
          "iopub.execute_input": "2021-12-27T12:39:04.402744Z",
          "iopub.status.idle": "2021-12-27T12:39:04.417202Z",
          "shell.execute_reply.started": "2021-12-27T12:39:04.402706Z",
          "shell.execute_reply": "2021-12-27T12:39:04.416261Z"
        },
        "trusted": true,
        "id": "cXXjnFEb-znL"
      },
      "execution_count": null,
      "outputs": []
    },
    {
      "cell_type": "markdown",
      "source": [
        "### Let's look at one resized final image with resized bounding box on it "
      ],
      "metadata": {
        "id": "nz2fH7-2-znL"
      }
    },
    {
      "cell_type": "code",
      "source": [
        "# defining rectangle function params value\n",
        "start_point = (xmin, ymin)\n",
        "end_point = (xmax, ymax)\n",
        "color = (255, 0, 0)  # Make only one channel alive out of 3 channels\n",
        "thickness = 2        # Thickness of bounding box   \n",
        "\n",
        "# to access the example image using openCV\n",
        "# using rectangle function to make the bounding box on the image\n",
        "# https://docs.opencv.org/4.x/d6/d6e/group__imgproc__draw.html#ga07d2f74cadcf8e305e810ce8eed13bc9\n",
        "example_img = cv2.rectangle(X[1], start_point, end_point, color, thickness)\n",
        "\n",
        "print(start_point)\n",
        "print(end_point)\n",
        "\n",
        "# to plot the image\n",
        "plt.imshow(example_img) \n",
        "plt.show()"
      ],
      "metadata": {
        "execution": {
          "iopub.status.busy": "2021-12-27T12:39:04.421375Z",
          "iopub.execute_input": "2021-12-27T12:39:04.423296Z",
          "iopub.status.idle": "2021-12-27T12:39:04.600039Z",
          "shell.execute_reply.started": "2021-12-27T12:39:04.423264Z",
          "shell.execute_reply": "2021-12-27T12:39:04.598307Z"
        },
        "trusted": true,
        "colab": {
          "base_uri": "https://localhost:8080/",
          "height": 321
        },
        "id": "DY4_PwId-znL",
        "outputId": "40e4b4c5-c00b-4f9a-eaad-53bd63bba1dd"
      },
      "execution_count": null,
      "outputs": [
        {
          "output_type": "stream",
          "name": "stderr",
          "text": [
            "WARNING:matplotlib.image:Clipping input data to the valid range for imshow with RGB data ([0..1] for floats or [0..255] for integers).\n"
          ]
        },
        {
          "output_type": "stream",
          "name": "stdout",
          "text": [
            "(99, 112)\n",
            "(129, 137)\n"
          ]
        },
        {
          "output_type": "display_data",
          "data": {
            "text/plain": [
              "<Figure size 432x288 with 1 Axes>"
            ],
            "image/png": "[encoded data removed]"
          },
          "metadata": {
            "needs_background": "light"
          }
        }
      ]
    },
    {
      "cell_type": "markdown",
      "source": [
        "So, I think now you got some pretty good idea of what we are doing and how we are doing.\n",
        "\n",
        "A machine learning model typically requires two things, data that will be fed into the model and what we want as the output.\n",
        "So, in our case, we want to feed images of moon into the model, and we want it to predict the position as a bounding box in the image. \n",
        "\n",
        "Above we prepared images, X, to feed into the model, and we have have understood what we want from our model.\n",
        "\n",
        "### Now let's prepare y, our expected output from the model.\n"
      ],
      "metadata": {
        "id": "GGdrRlfk-znL"
      }
    },
    {
      "cell_type": "code",
      "source": [
        "y = []\n",
        "\n",
        "# we will do exactly as we did above\n",
        "for annot_name in annots_name_list:\n",
        "    annot_path = os.path.join(ANNOT_DIR, annot_name)\n",
        "    tree = ET.parse(annot_path)\n",
        "    root = tree.getroot()\n",
        "    size = root.find(\"size\")\n",
        "    h = int(size.find(\"height\").text)\n",
        "    w = int(size.find(\"width\").text)\n",
        "\n",
        "    bndbox = root.find(\"object\").find(\"bndbox\")\n",
        "    xmin = int(bndbox.find(\"xmin\").text)/w\n",
        "    xmax = int(bndbox.find(\"xmax\").text)/w\n",
        "    ymin = int(bndbox.find(\"ymin\").text)/h\n",
        "    ymax = int(bndbox.find(\"ymax\").text)/h\n",
        "    \n",
        "    y.append([xmin, ymin, xmax, ymax])\n",
        "    \n",
        "y = np.asarray(y, dtype = np.float32)\n",
        "print(y.shape)\n",
        "# For every image of size (224,224,3) we want four values defining the coordinates of the box"
      ],
      "metadata": {
        "execution": {
          "iopub.status.busy": "2021-12-27T12:39:04.601194Z",
          "iopub.execute_input": "2021-12-27T12:39:04.601585Z",
          "iopub.status.idle": "2021-12-27T12:39:05.000828Z",
          "shell.execute_reply.started": "2021-12-27T12:39:04.601553Z",
          "shell.execute_reply": "2021-12-27T12:39:04.999801Z"
        },
        "trusted": true,
        "colab": {
          "base_uri": "https://localhost:8080/"
        },
        "id": "UmHQD-IC-znM",
        "outputId": "fb22f7ba-0eb5-4e94-d628-58c4f1b6a600"
      },
      "execution_count": null,
      "outputs": [
        {
          "output_type": "stream",
          "name": "stdout",
          "text": [
            "(75, 4)\n"
          ]
        }
      ]
    },
    {
      "cell_type": "code",
      "source": [
        "y[1]"
      ],
      "metadata": {
        "execution": {
          "iopub.status.busy": "2021-12-27T12:39:05.002138Z",
          "iopub.execute_input": "2021-12-27T12:39:05.002454Z",
          "iopub.status.idle": "2021-12-27T12:39:05.009996Z",
          "shell.execute_reply.started": "2021-12-27T12:39:05.002414Z",
          "shell.execute_reply": "2021-12-27T12:39:05.00907Z"
        },
        "trusted": true,
        "colab": {
          "base_uri": "https://localhost:8080/"
        },
        "id": "Qc3I56VP-znM",
        "outputId": "3c4bd2d5-8df8-4d12-c6c5-fac975ccf076"
      },
      "execution_count": null,
      "outputs": [
        {
          "output_type": "execute_result",
          "data": {
            "text/plain": [
              "array([0.44387755, 0.5       , 0.57653064, 0.6124031 ], dtype=float32)"
            ]
          },
          "metadata": {},
          "execution_count": 21
        }
      ]
    },
    {
      "cell_type": "markdown",
      "source": [
        "#### Let's segregate the data into training and test\n",
        "\n"
      ],
      "metadata": {
        "id": "osGthMlA-znM"
      }
    },
    {
      "cell_type": "code",
      "source": [
        "# it's a good pratice to divide your data into two sets, training set on which your model will be trained\n",
        "# and testing set, on which your model will be tested\n",
        "\n",
        "\n",
        "# ------------------------------------------------------------------------\n",
        "\n",
        "#TASK - 4\n",
        "# devide you data into training and test set\n",
        "# HINT: separate first 60 image and annots for training set and other 15 for test set\n",
        "# use slicing to separate the array [:]\n",
        "\n",
        "# training set\n",
        "x_train = X[:60]      #????????????????? let students decide\n",
        "# test images form 60 to end\n",
        "x_test = X[60:]       #???????????????? Let students decide\n",
        "# this is training set for labels\n",
        "y_train = y[:60]      #???????????????? Let students decide\n",
        "# test set for labels\n",
        "y_test = y[60:]       #???????????????? Let students decide\n",
        "\n",
        "#--------------------------------------------------------------------------"
      ],
      "metadata": {
        "execution": {
          "iopub.status.busy": "2021-12-27T12:39:05.011619Z",
          "iopub.execute_input": "2021-12-27T12:39:05.012362Z",
          "iopub.status.idle": "2021-12-27T12:39:05.019618Z",
          "shell.execute_reply.started": "2021-12-27T12:39:05.012319Z",
          "shell.execute_reply": "2021-12-27T12:39:05.018977Z"
        },
        "trusted": true,
        "id": "LKvmL4Zq-znM"
      },
      "execution_count": null,
      "outputs": []
    },
    {
      "cell_type": "code",
      "source": [
        "print(\"X_train.shape:\",x_train.shape)\n",
        "print(\"y_train.shape:\",y_train.shape)\n",
        "print(\"x_test.shape:\",x_test.shape)\n",
        "print(\"y_test.shape:\",y_test.shape)"
      ],
      "metadata": {
        "colab": {
          "base_uri": "https://localhost:8080/"
        },
        "id": "8PloQUPRpt5b",
        "outputId": "6f2cfd45-bc40-4057-a4b2-35532e25039d"
      },
      "execution_count": null,
      "outputs": [
        {
          "output_type": "stream",
          "name": "stdout",
          "text": [
            "X_train.shape: (60, 224, 224, 3)\n",
            "y_train.shape: (60, 4)\n",
            "x_test.shape: (15, 224, 224, 3)\n",
            "y_test.shape: (15, 4)\n"
          ]
        }
      ]
    },
    {
      "cell_type": "markdown",
      "source": [
        "\n",
        "### Understanding Tensorflow, Keras and Building our ML Model\n",
        "\n",
        "Yesterday, we understood all about importing our dataset, basic data anaylsis and segregation of our data into training and testing set.\n",
        "\n",
        "Now, we need to do some heavy lifting here. \n",
        "\n",
        "Note: The below image is extracted from some other source and it may not exactly represent our model, but it will give you a nice idea of a Convolutional Neural Network, something that we will be using here.  "
      ],
      "metadata": {
        "id": "CUi1afU4-znN"
      }
    },
    {
      "cell_type": "markdown",
      "source": [
        "## Neural Networks\n",
        "\n",
        "We'll build a neural network (or deep learning network) to learn the associations between moon images and coordinates of bounding boxes.\n",
        "\n",
        "### Neurons\n",
        "\n",
        "Neural networks process information similar to how our brains work. Our brains have neurons or nerve cells that transmit and process information from our senses. Many nerve cells are arranged as a network of nerves in the brain. The nerves pass electrical impulses from one neuron to the next in the network.\n",
        "\n",
        "Neural networks have millions of neurons and nerves. To build a functional neural network, we wire the neurons and nerves together in two steps:\n",
        "\n",
        "    Step A: Build all the neurons.\n",
        "    Step B: Wire the neurons in an appropriate way. (There are thousands of ways to wire neurons.)\n",
        "\n",
        "\n",
        "We tell the computer to combine the sequences of neurons into a matrix. The matrix represents the best pattern we have to describe the features for types of space rock. This matrix is a wired network.\n",
        "\n",
        "We'll train our model to predict the rock type. We'll compare the rock features in a new image with the matrix pattern. Each time we run the model, the matrix grows and the prediction accuracy improves. Our goal is to test the model and achieve a prediction accuracy close to 100%.\n",
        "\n",
        "One of the best article about neural networks is here: https://www.3blue1brown.com/lessons/neural-networks"
      ],
      "metadata": {
        "id": "49yFTCtJ-znN"
      }
    },
    {
      "cell_type": "markdown",
      "source": [
        "### Let's first more deeply understand what an Image is?"
      ],
      "metadata": {
        "id": "1S8vBERH-znN"
      }
    },
    {
      "cell_type": "markdown",
      "source": [
        "![](http://3b1b-posts.us-east-1.linodeobjects.com//content/lessons/2017/neural-networks/pixel-values.png)"
      ],
      "metadata": {
        "id": "O0qWUqKQ-znN"
      }
    },
    {
      "cell_type": "markdown",
      "source": [
        "## Dense Layer"
      ],
      "metadata": {
        "id": "th-Q2E74-znN"
      }
    },
    {
      "cell_type": "markdown",
      "source": [
        "# ![](http://3b1b-posts.us-east-1.linodeobjects.com//content/lessons/2017/neural-networks/output-layer.png)"
      ],
      "metadata": {
        "id": "0OcqQvdV-znN"
      }
    },
    {
      "cell_type": "markdown",
      "source": [
        "So, as we have seen above, for our (224 X 224 X 3) image, our first layer of neural network will contain 150,528 units in one Dense Layer. And multiplications of all the **Dense layers** with each other is a lot of computation for our lil computers.\n",
        "\n",
        "#### That's where Convolutional layers comes into picture.\n",
        "\n",
        "### Convolution\n",
        "\n",
        "In mathematics, casually speaking, a mixture of two functions. In machine learning, a convolution mixes the convolutional filter and the input matrix in order to train weights.\n",
        "\n",
        "The term \"convolution\" in machine learning is often a shorthand way of referring to either convolutional operation or convolutional layer.\n",
        "\n",
        "Without convolutions, a machine learning algorithm would have to learn a separate weight for every cell in a large tensor. For example, a machine learning algorithm training on 2K x 2K images would be forced to find 4M separate weights. Thanks to convolutions, a machine learning algorithm only has to find weights for every cell in the convolutional filter, dramatically reducing the memory needed to train the model. When the convolutional filter is applied, it is simply replicated across cells such that each is multiplied by the filter.\n",
        "\n",
        "### Convolution Filter\n",
        "\n",
        "One of the two actors in a convolutional operation. (The other actor is a slice of an input matrix.) A convolutional filter is a matrix having the same rank as the input matrix, but a smaller shape. For example, given a 28x28 input matrix, the filter could be any 2D matrix smaller than 28x28.\n",
        "\n",
        "In photographic manipulation, all the cells in a convolutional filter are typically set to a constant pattern of ones and zeroes. In machine learning, convolutional filters are typically seeded with random numbers and then the network trains the ideal values.\n",
        "\n",
        "### Convolutional Layer\n",
        "\n",
        "A layer of a deep neural network in which a convolutional filter passes along an input matrix. For example, consider the following 3x3 convolutional filter:\n",
        "\n",
        "![](http://developers.google.com/machine-learning/glossary/images/ConvolutionalFilter33.svg)\n",
        "\n",
        "The following animation shows a convolutional layer consisting of 9 convolutional operations involving the 5x5 input matrix. Notice that each convolutional operation works on a different 3x3 slice of the input matrix. The resulting 3x3 matrix (on the right) consists of the results of the 9 convolutional operations:\n",
        "\n",
        "![](http://developers.google.com/machine-learning/glossary/images/AnimatedConvolution.gif)\n",
        "\n",
        "## Convolutional Neural Network\n",
        "\n",
        "A neural network in which at least one layer is a convolutional layer. A typical convolutional neural network consists of some combination of the following layers:\n",
        "\n",
        "    convolutional layers\n",
        "    pooling layers\n",
        "    dense layers\n",
        "\n",
        "Convolutional neural networks have had great success in certain kinds of problems, such as image recognition.\n",
        "\n",
        "### Pooling\n",
        "\n",
        "A pooling operation, just like a convolutional operation, divides that matrix into slices and then slides that convolutional operation by strides. For example, suppose the pooling operation divides the convolutional matrix into 2x2 slices with a 1x1 stride. As the following diagram illustrates, four pooling operations take place. Imagine that each pooling operation picks the maximum value of the four in that slice:\n",
        "\n",
        "![](http://developers.google.com/machine-learning/glossary/images/PoolingConvolution.svg)\n",
        "\n"
      ],
      "metadata": {
        "id": "tjn4EOvu-znO"
      }
    },
    {
      "cell_type": "markdown",
      "source": [
        "## Building a Convolutional Neural Network "
      ],
      "metadata": {
        "id": "8iNp94tL-znO"
      }
    },
    {
      "cell_type": "markdown",
      "source": [
        "![](http://www.researchgate.net/profile/Jose-Benitez-Andrades/publication/339447623/figure/fig2/AS:862056077082627@1582541593714/A-vanilla-Convolutional-Neural-Network-CNN-representation.png)"
      ],
      "metadata": {
        "id": "jR0UqC9Y-znP"
      }
    },
    {
      "cell_type": "code",
      "source": [
        "# Sequential groups a linear stack of layers into a tf.keras.Model.\n",
        "model = Sequential()\n",
        "\n",
        "# https://www.tensorflow.org/api_docs/python/tf/keras/layers/Conv2D\n",
        "model.add(Conv2D(32, (3, 3), activation='relu', input_shape=(224, 224, 3)))\n",
        "\n",
        "# https://www.tensorflow.org/api_docs/python/tf/keras/layers/MaxPool2D\n",
        "model.add(MaxPooling2D((2, 2)))\n",
        "model.add(Conv2D(64, (3, 3), activation='relu'))\n",
        "model.add(MaxPooling2D((2, 2)))\n",
        "model.add(Conv2D(64, (3, 3), activation='relu'))\n",
        "model.add(MaxPooling2D((2, 2)))\n",
        "model.add(Conv2D(128, (3, 3), activation='relu'))\n",
        "model.add(MaxPooling2D((2, 2)))\n",
        "model.add(Conv2D(128, (3, 3), activation='relu'))\n",
        "model.add(MaxPooling2D((2, 2)))\n",
        "\n",
        "# model.add(Input(shape=(224,224,3)))\n",
        "model.add(Flatten())\n",
        "# model.add(Dense(1000, activation ='relu'))\n",
        "model.add(Dense(64, activation ='relu'))\n",
        "model.add(Dense(4, activation = \"softmax\"))\n",
        "\n",
        "model.summary()"
      ],
      "metadata": {
        "execution": {
          "iopub.status.busy": "2021-12-27T12:39:05.020527Z",
          "iopub.execute_input": "2021-12-27T12:39:05.021117Z",
          "iopub.status.idle": "2021-12-27T12:39:05.205595Z",
          "shell.execute_reply.started": "2021-12-27T12:39:05.02108Z",
          "shell.execute_reply": "2021-12-27T12:39:05.204752Z"
        },
        "trusted": true,
        "colab": {
          "base_uri": "https://localhost:8080/"
        },
        "id": "pkTzHt6t-znP",
        "outputId": "7bf18578-2f63-4e67-80c5-cb2935f86f83"
      },
      "execution_count": null,
      "outputs": [
        {
          "output_type": "stream",
          "name": "stdout",
          "text": [
            "Model: \"sequential\"\n",
            "_________________________________________________________________\n",
            " Layer (type)                Output Shape              Param #   \n",
            "=================================================================\n",
            " conv2d (Conv2D)             (None, 222, 222, 32)      896       \n",
            "                                                                 \n",
            " max_pooling2d (MaxPooling2D  (None, 111, 111, 32)     0         \n",
            " )                                                               \n",
            "                                                                 \n",
            " conv2d_1 (Conv2D)           (None, 109, 109, 64)      18496     \n",
            "                                                                 \n",
            " max_pooling2d_1 (MaxPooling  (None, 54, 54, 64)       0         \n",
            " 2D)                                                             \n",
            "                                                                 \n",
            " conv2d_2 (Conv2D)           (None, 52, 52, 64)        36928     \n",
            "                                                                 \n",
            " max_pooling2d_2 (MaxPooling  (None, 26, 26, 64)       0         \n",
            " 2D)                                                             \n",
            "                                                                 \n",
            " conv2d_3 (Conv2D)           (None, 24, 24, 128)       73856     \n",
            "                                                                 \n",
            " max_pooling2d_3 (MaxPooling  (None, 12, 12, 128)      0         \n",
            " 2D)                                                             \n",
            "                                                                 \n",
            " conv2d_4 (Conv2D)           (None, 10, 10, 128)       147584    \n",
            "                                                                 \n",
            " max_pooling2d_4 (MaxPooling  (None, 5, 5, 128)        0         \n",
            " 2D)                                                             \n",
            "                                                                 \n",
            " flatten (Flatten)           (None, 3200)              0         \n",
            "                                                                 \n",
            " dense (Dense)               (None, 64)                204864    \n",
            "                                                                 \n",
            " dense_1 (Dense)             (None, 4)                 260       \n",
            "                                                                 \n",
            "=================================================================\n",
            "Total params: 482,884\n",
            "Trainable params: 482,884\n",
            "Non-trainable params: 0\n",
            "_________________________________________________________________\n"
          ]
        }
      ]
    },
    {
      "cell_type": "code",
      "source": [
        "model.compile(optimizer='adam',\n",
        "              loss = \"mse\",\n",
        "              metrics=['accuracy'])\n",
        "\n",
        "\n",
        "# fit method Trains the model for a fixed number of epochs (iterations on a dataset).\n",
        "# here we fit the model into our own dataset and train it for 30 epochs with batch size of 4\n",
        "\n",
        "history = model.fit(x_train, y_train, epochs=30, batch_size = 1)\n"
      ],
      "metadata": {
        "execution": {
          "iopub.status.busy": "2021-12-27T12:39:06.002878Z",
          "iopub.execute_input": "2021-12-27T12:39:06.003225Z",
          "iopub.status.idle": "2021-12-27T12:39:34.50496Z",
          "shell.execute_reply.started": "2021-12-27T12:39:06.003181Z",
          "shell.execute_reply": "2021-12-27T12:39:34.504342Z"
        },
        "trusted": true,
        "id": "h2sQjLlR-znQ"
      },
      "execution_count": null,
      "outputs": []
    },
    {
      "cell_type": "markdown",
      "source": [
        "#Transfer Learning\n",
        "\n",
        "Let's define here VGG model\n",
        "\n",
        "In here we will directly access the trained VGG model using Keras, in which we access trained 'weights' parameters and with standard input size."
      ],
      "metadata": {
        "id": "M5GOO8JCFi50"
      }
    },
    {
      "cell_type": "markdown",
      "source": [
        "![image.png](data:image/png;base64,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)"
      ],
      "metadata": {
        "id": "QBM2_8fRGBVO"
      }
    },
    {
      "cell_type": "code",
      "source": [
        "# defining VGG model\n",
        "vgg = VGG16(weights=\"imagenet\", include_top=False, input_tensor=Input(shape=(224, 224, 3)))\n",
        "\n",
        "vgg.trainable = False\n",
        "\n",
        "# Now flateen the VGG tensor\n",
        "flatten = vgg.output\n",
        "flatten = Flatten()(flatten)\n",
        "\n",
        "# adding dense layer of num of units 128 and using activation as Relu\n",
        "bboxHead = Dense(128, activation=\"relu\")(flatten)\n",
        "\n",
        "# adding dense layer of num of units 64 and using activation as Relu\n",
        "bboxHead = Dense(64, activation=\"relu\")(bboxHead)\n",
        "\n",
        "# adding dense layer of num of units 32 and using activation as Relu\n",
        "bboxHead = Dense(32, activation=\"relu\")(bboxHead)\n",
        "\n",
        "\n",
        "# ------------------------------------------------------------------------\n",
        "\n",
        "#TASK - 5\n",
        "# create one more dense layer as above \n",
        "# HINT: use 4 as number of units and \"sigmoid\" as activation function \n",
        "\n",
        "bboxHead = Dense(4, activation=\"sigmoid\")(bboxHead)       #  ??????????????????? Let students to decide\n",
        "\n",
        "#--------------------------------------------------------------------------\n",
        "\n",
        "\n",
        "# Now defining the model, in which input is VGG and output is the 'BBOXHEAD'\n",
        "model = Model(inputs=vgg.input, outputs=bboxHead)\n",
        "\n",
        "model.summary() # to print the model summary"
      ],
      "metadata": {
        "colab": {
          "base_uri": "https://localhost:8080/"
        },
        "id": "adOkrohNGNuk",
        "outputId": "237612c5-e895-4f1f-a59d-53afcee1586a"
      },
      "execution_count": null,
      "outputs": [
        {
          "output_type": "stream",
          "name": "stdout",
          "text": [
            "Downloading data from https://storage.googleapis.com/tensorflow/keras-applications/vgg16/vgg16_weights_tf_dim_ordering_tf_kernels_notop.h5\n",
            "58892288/58889256 [==============================] - 1s 0us/step\n",
            "58900480/58889256 [==============================] - 1s 0us/step\n",
            "Model: \"model\"\n",
            "_________________________________________________________________\n",
            " Layer (type)                Output Shape              Param #   \n",
            "=================================================================\n",
            " input_1 (InputLayer)        [(None, 224, 224, 3)]     0         \n",
            "                                                                 \n",
            " block1_conv1 (Conv2D)       (None, 224, 224, 64)      1792      \n",
            "                                                                 \n",
            " block1_conv2 (Conv2D)       (None, 224, 224, 64)      36928     \n",
            "                                                                 \n",
            " block1_pool (MaxPooling2D)  (None, 112, 112, 64)      0         \n",
            "                                                                 \n",
            " block2_conv1 (Conv2D)       (None, 112, 112, 128)     73856     \n",
            "                                                                 \n",
            " block2_conv2 (Conv2D)       (None, 112, 112, 128)     147584    \n",
            "                                                                 \n",
            " block2_pool (MaxPooling2D)  (None, 56, 56, 128)       0         \n",
            "                                                                 \n",
            " block3_conv1 (Conv2D)       (None, 56, 56, 256)       295168    \n",
            "                                                                 \n",
            " block3_conv2 (Conv2D)       (None, 56, 56, 256)       590080    \n",
            "                                                                 \n",
            " block3_conv3 (Conv2D)       (None, 56, 56, 256)       590080    \n",
            "                                                                 \n",
            " block3_pool (MaxPooling2D)  (None, 28, 28, 256)       0         \n",
            "                                                                 \n",
            " block4_conv1 (Conv2D)       (None, 28, 28, 512)       1180160   \n",
            "                                                                 \n",
            " block4_conv2 (Conv2D)       (None, 28, 28, 512)       2359808   \n",
            "                                                                 \n",
            " block4_conv3 (Conv2D)       (None, 28, 28, 512)       2359808   \n",
            "                                                                 \n",
            " block4_pool (MaxPooling2D)  (None, 14, 14, 512)       0         \n",
            "                                                                 \n",
            " block5_conv1 (Conv2D)       (None, 14, 14, 512)       2359808   \n",
            "                                                                 \n",
            " block5_conv2 (Conv2D)       (None, 14, 14, 512)       2359808   \n",
            "                                                                 \n",
            " block5_conv3 (Conv2D)       (None, 14, 14, 512)       2359808   \n",
            "                                                                 \n",
            " block5_pool (MaxPooling2D)  (None, 7, 7, 512)         0         \n",
            "                                                                 \n",
            " flatten_1 (Flatten)         (None, 25088)             0         \n",
            "                                                                 \n",
            " dense_2 (Dense)             (None, 128)               3211392   \n",
            "                                                                 \n",
            " dense_3 (Dense)             (None, 64)                8256      \n",
            "                                                                 \n",
            " dense_4 (Dense)             (None, 32)                2080      \n",
            "                                                                 \n",
            " dense_5 (Dense)             (None, 4)                 132       \n",
            "                                                                 \n",
            "=================================================================\n",
            "Total params: 17,936,548\n",
            "Trainable params: 3,221,860\n",
            "Non-trainable params: 14,714,688\n",
            "_________________________________________________________________\n"
          ]
        }
      ]
    },
    {
      "cell_type": "code",
      "source": [
        "model.compile(optimizer='adam',\n",
        "              loss = \"mse\",\n",
        "              metrics=['accuracy'])\n",
        "\n",
        "\n",
        "# fit method Trains the model for a fixed number of epochs (iterations on a dataset).\n",
        "# here we fit the model into our own dataset and train it for 30 epochs with batch size of 4\n",
        "\n",
        "history = model.fit(x_train, y_train, epochs=10, batch_size = 4)"
      ],
      "metadata": {
        "colab": {
          "base_uri": "https://localhost:8080/"
        },
        "id": "X5gIrE88GZE6",
        "outputId": "83e78c1b-0470-4588-f058-8d48b820b8ab"
      },
      "execution_count": null,
      "outputs": [
        {
          "output_type": "stream",
          "name": "stdout",
          "text": [
            "Epoch 1/10\n",
            "15/15 [==============================] - 30s 2s/step - loss: 0.0158 - accuracy: 0.6667\n",
            "Epoch 2/10\n",
            "15/15 [==============================] - 27s 2s/step - loss: 0.0180 - accuracy: 0.7667\n",
            "Epoch 3/10\n",
            "15/15 [==============================] - 29s 2s/step - loss: 0.0173 - accuracy: 0.7667\n",
            "Epoch 4/10\n",
            "15/15 [==============================] - 28s 2s/step - loss: 0.0133 - accuracy: 0.7833\n",
            "Epoch 5/10\n",
            "15/15 [==============================] - 27s 2s/step - loss: 0.0107 - accuracy: 0.8333\n",
            "Epoch 6/10\n",
            "15/15 [==============================] - 29s 2s/step - loss: 0.0115 - accuracy: 0.7333\n",
            "Epoch 7/10\n",
            "15/15 [==============================] - 27s 2s/step - loss: 0.0084 - accuracy: 0.8500\n",
            "Epoch 8/10\n",
            "15/15 [==============================] - 27s 2s/step - loss: 0.0079 - accuracy: 0.8667\n",
            "Epoch 9/10\n",
            "15/15 [==============================] - 27s 2s/step - loss: 0.0095 - accuracy: 0.9000\n",
            "Epoch 10/10\n",
            "15/15 [==============================] - 29s 2s/step - loss: 0.0082 - accuracy: 0.8333\n"
          ]
        }
      ]
    },
    {
      "cell_type": "markdown",
      "source": [
        "## Get predictions from our trained model on the test set"
      ],
      "metadata": {
        "id": "dry1krQx-znQ"
      }
    },
    {
      "cell_type": "code",
      "source": [
        "# prediction for all test set\n",
        "# using predict function\n",
        "preds = model.predict(x_test)"
      ],
      "metadata": {
        "execution": {
          "iopub.status.busy": "2021-12-27T12:39:34.515966Z",
          "iopub.execute_input": "2021-12-27T12:39:34.516736Z",
          "iopub.status.idle": "2021-12-27T12:39:38.177666Z",
          "shell.execute_reply.started": "2021-12-27T12:39:34.516702Z",
          "shell.execute_reply": "2021-12-27T12:39:38.177051Z"
        },
        "trusted": true,
        "id": "6rXQmbZc-znQ"
      },
      "execution_count": null,
      "outputs": []
    },
    {
      "cell_type": "code",
      "source": [
        "preds"
      ],
      "metadata": {
        "execution": {
          "iopub.status.busy": "2021-12-27T12:39:38.178854Z",
          "iopub.execute_input": "2021-12-27T12:39:38.179189Z",
          "iopub.status.idle": "2021-12-27T12:39:38.185443Z",
          "shell.execute_reply.started": "2021-12-27T12:39:38.179148Z",
          "shell.execute_reply": "2021-12-27T12:39:38.184858Z"
        },
        "trusted": true,
        "colab": {
          "base_uri": "https://localhost:8080/"
        },
        "id": "glY5q6tw-znR",
        "outputId": "2e5d5b34-e7c9-49aa-dfb4-ce3170d84335"
      },
      "execution_count": null,
      "outputs": [
        {
          "output_type": "execute_result",
          "data": {
            "text/plain": [
              "array([[0.3829717 , 0.3581398 , 0.6145441 , 0.5522542 ],\n",
              "       [0.5004339 , 0.19937697, 0.61403155, 0.36060473],\n",
              "       [0.5112375 , 0.28468263, 0.5816359 , 0.4407448 ],\n",
              "       [0.21294615, 0.32306445, 0.77032447, 0.64522177],\n",
              "       [0.40075177, 0.17287916, 0.49449217, 0.31867057],\n",
              "       [0.45230037, 0.4027602 , 0.60376656, 0.58430135],\n",
              "       [0.49549878, 0.28008652, 0.5795912 , 0.40993038],\n",
              "       [0.43333706, 0.2340158 , 0.6018104 , 0.4570377 ],\n",
              "       [0.5381186 , 0.21794257, 0.62269336, 0.36220056],\n",
              "       [0.4655046 , 0.23105845, 0.5589595 , 0.38510227],\n",
              "       [0.44981492, 0.3688149 , 0.57397556, 0.56219816],\n",
              "       [0.4552123 , 0.25143927, 0.5824816 , 0.39792803],\n",
              "       [0.25376606, 0.33537954, 0.75232154, 0.6648074 ],\n",
              "       [0.49647853, 0.30793917, 0.5479646 , 0.4222207 ],\n",
              "       [0.5212606 , 0.3128401 , 0.5919543 , 0.49032858]], dtype=float32)"
            ]
          },
          "metadata": {},
          "execution_count": 29
        }
      ]
    },
    {
      "cell_type": "markdown",
      "source": [
        "### Generating final results"
      ],
      "metadata": {
        "id": "W-5iTdUv-znR"
      }
    },
    {
      "cell_type": "code",
      "source": [
        "\n",
        "sample_index = 14\n",
        "\n",
        "# finding coordinates for our prediction and actual bounding boxes\n",
        "pred_bb = [int(i*224) for i in preds[sample_index]]\n",
        "actual_bb = [int(i*224) for i in y_test[sample_index]]\n",
        "\n",
        "# start point is top left corner and end point is bottom right corner\n",
        "pred_start_point = (pred_bb[0], pred_bb[1])\n",
        "pred_end_point = (pred_bb[2], pred_bb[3])\n",
        "\n",
        "actual_start_point = (actual_bb[0],actual_bb[1])\n",
        "actual_end_point = (actual_bb[2], actual_bb[3])\n",
        "\n",
        "# colors for the box\n",
        "red = (255, 0, 0) # actual\n",
        "green = (0, 255, 0) # preds\n",
        "thickness = 1\n",
        "\n",
        "# ------------------------------------------------------------------------\n",
        "\n",
        "# TASK - 6\n",
        "\n",
        "# here is your final task\n",
        "# use rectange function as used previously to show the actual and predicted bounded boxes on the test image\n",
        "# use image with index as sample_index from test set and predicted start and end points to draw the red bounding box\n",
        "\n",
        "img_with_predicted_bb = cv2.rectangle(x_test[sample_index],pred_start_point,pred_end_point,red,thickness)\n",
        "\n",
        "#--------------------------------------------------------------------------\n",
        "\n",
        "img_with_pred_and_actual_bb = cv2.rectangle(img_with_predicted_bb, actual_start_point, actual_end_point, green, thickness) #??????????????????????? Let students decide....\n",
        "\n",
        "\n",
        "\n",
        "# to show final image\n",
        "plt.figure(figsize= (7,7))\n",
        "plt.imshow(img_with_pred_and_actual_bb)\n",
        "plt.show()"
      ],
      "metadata": {
        "execution": {
          "iopub.status.busy": "2021-12-27T12:39:38.18665Z",
          "iopub.execute_input": "2021-12-27T12:39:38.18707Z",
          "iopub.status.idle": "2021-12-27T12:39:38.200403Z",
          "shell.execute_reply.started": "2021-12-27T12:39:38.187015Z",
          "shell.execute_reply": "2021-12-27T12:39:38.1992Z"
        },
        "trusted": true,
        "colab": {
          "base_uri": "https://localhost:8080/",
          "height": 449
        },
        "id": "EPbcWVcA-znR",
        "outputId": "7f0df2f7-73e0-4a62-bb4a-bcc0be60e6d3"
      },
      "execution_count": null,
      "outputs": [
        {
          "output_type": "stream",
          "name": "stderr",
          "text": [
            "WARNING:matplotlib.image:Clipping input data to the valid range for imshow with RGB data ([0..1] for floats or [0..255] for integers).\n"
          ]
        },
        {
          "output_type": "display_data",
          "data": {
            "text/plain": [
              "<Figure size 504x504 with 1 Axes>"
            ],
            "image/png": "[encoded data removed]"
          },
          "metadata": {
            "needs_background": "light"
          }
        }
      ]
    },
    {
      "cell_type": "markdown",
      "source": [
        "You should see an image with two bounding boxes, the green bb is the actual box and red is the predicted box from the model.\n",
        "\n",
        "\n",
        "Some results can be absured because despite using a very large model, our dataset was very very small campared to the datasets that contains thousands of images. "
      ],
      "metadata": {
        "id": "UPSiDf5R-znR"
      }
    }
  ]
}